{
 "cells": [
  {
   "cell_type": "code",
   "execution_count": 1,
   "metadata": {},
   "outputs": [],
   "source": [
    "import numpy as np\n",
    "import matplotlib.pyplot as plt\n",
    "from sklearn import datasets"
   ]
  },
  {
   "cell_type": "code",
   "execution_count": 2,
   "metadata": {},
   "outputs": [],
   "source": [
    "iris_data = datasets.load_iris()\n",
    "input_data = iris_data.data\n",
    "correct = iris_data.target\n",
    "n_data = len(correct)"
   ]
  },
  {
   "cell_type": "code",
   "execution_count": 3,
   "metadata": {},
   "outputs": [],
   "source": [
    "ave_input = np.average(input_data, axis=0)\n",
    "std_input = np.std(input_data, axis=0)\n",
    "input_data = (input_data - ave_input) / std_input"
   ]
  },
  {
   "cell_type": "code",
   "execution_count": 4,
   "metadata": {},
   "outputs": [],
   "source": [
    "correct_data = np.zeros((n_data, 3))\n",
    "for i in range(n_data):\n",
    "    correct_data[i, correct[i]] = 1.0"
   ]
  },
  {
   "cell_type": "code",
   "execution_count": 5,
   "metadata": {},
   "outputs": [],
   "source": [
    "index = np.arange(n_data)\n",
    "index_train = index[index%2 == 0]\n",
    "index_test = index[index%2 != 0]"
   ]
  },
  {
   "cell_type": "code",
   "execution_count": 6,
   "metadata": {},
   "outputs": [],
   "source": [
    "input_train = input_data[index_train, :]\n",
    "correct_train = correct_data[index_train, :]\n",
    "input_test = input_data[index_test, :]\n",
    "correct_test = correct_data[index_test, :]\n",
    "\n",
    "n_train = input_train.shape[0]\n",
    "n_test = input_test.shape[0]"
   ]
  },
  {
   "cell_type": "code",
   "execution_count": 7,
   "metadata": {},
   "outputs": [],
   "source": [
    "n_in = 4\n",
    "n_mid = 25\n",
    "n_out = 3\n",
    "\n",
    "wb_width = 0.1\n",
    "eta = 0.01\n",
    "epoch = 100\n",
    "batch_size = 8\n",
    "interval = 100"
   ]
  },
  {
   "cell_type": "code",
   "execution_count": 8,
   "metadata": {},
   "outputs": [],
   "source": [
    "class BaseLayer:\n",
    "    def __init__(self, n_upper, n):\n",
    "        self.w = wb_width * np.random.randn(n_upper, n)\n",
    "        self.b = wb_width * np.random.randn(n)\n",
    "    \n",
    "    def update(self, eta):\n",
    "        self.w -= eta * self.grad_w\n",
    "        self.b -= eta * self.grad_b"
   ]
  },
  {
   "cell_type": "code",
   "execution_count": 9,
   "metadata": {},
   "outputs": [],
   "source": [
    "class MiddleLayer(BaseLayer):\n",
    "    def forward(self, x):\n",
    "        self.x = x\n",
    "        self.u = np.dot(x, self.w) + self.b\n",
    "        self.y = np.where(self.u <= 0, 0, self.u)\n",
    "\n",
    "    def backward(self, grad_y):\n",
    "        delta = grad_y * np.where(self.u <= 0, 0, 1)\n",
    "\n",
    "        self.grad_w = np.dot(self.x.T, delta)\n",
    "        self.grad_b = np.sum(delta, axis = 0)\n",
    "\n",
    "        self.grad_x = np.dot(delta, self.w.T)"
   ]
  },
  {
   "cell_type": "code",
   "execution_count": 10,
   "metadata": {},
   "outputs": [],
   "source": [
    "class OutputLayer(BaseLayer):\n",
    "    def forward(self, x):\n",
    "        self.x = x\n",
    "        u = np.dot(x, self.w) + self.b\n",
    "\n",
    "        self.y = np.exp(u)/np.sum(np.exp(u), axis=1, keepdims=True)\n",
    "\n",
    "    def backward(self, t):\n",
    "        delta = self.y -t\n",
    "\n",
    "        self.grad_w = np.dot(self.x.T, delta)\n",
    "        self.grad_b = np.sum(delta, axis=0)\n",
    "\n",
    "        self.grad_x = np.dot(delta, self.w.T)"
   ]
  },
  {
   "cell_type": "code",
   "execution_count": 11,
   "metadata": {},
   "outputs": [],
   "source": [
    "middle_layer_1 = MiddleLayer(n_in, n_mid)\n",
    "middle_layer_2 = MiddleLayer(n_mid, n_mid)\n",
    "output_layer = OutputLayer(n_mid, n_out)"
   ]
  },
  {
   "cell_type": "code",
   "execution_count": 12,
   "metadata": {},
   "outputs": [],
   "source": [
    "def forward_propagation(x):\n",
    "    middle_layer_1.forward(x)\n",
    "    middle_layer_2.forward(middle_layer_1.y)\n",
    "    output_layer.forward(middle_layer_2.y)\n",
    "\n",
    "def backpropagation(t):\n",
    "    output_layer.backward(t)\n",
    "    middle_layer_2.backward(output_layer.grad_x)\n",
    "    middle_layer_1.backward(middle_layer_2.grad_x)"
   ]
  },
  {
   "cell_type": "code",
   "execution_count": 13,
   "metadata": {},
   "outputs": [],
   "source": [
    "def uppdate_wb():\n",
    "    middle_layer_1.update(eta)\n",
    "    middle_layer_2.update(eta)\n",
    "    output_layer.update(eta)\n",
    "\n",
    "def get_error(t, batch_size):\n",
    "    return -np.sum(t * np.log(output_layer.y + 1e-7)) / batch_size"
   ]
  },
  {
   "cell_type": "code",
   "execution_count": 14,
   "metadata": {},
   "outputs": [],
   "source": [
    "train_error_x = []\n",
    "train_error_y = []\n",
    "test_error_x = []\n",
    "test_error_y = []"
   ]
  },
  {
   "cell_type": "code",
   "execution_count": 15,
   "metadata": {},
   "outputs": [
    {
     "name": "stdout",
     "output_type": "stream",
     "text": [
      "Epoch: 0/100 Error:_train: 1.1104359045525152 Error_test: 1.109854738958335\n"
     ]
    }
   ],
   "source": [
    "n_batch = n_train // batch_size\n",
    "for i in range(epoch):\n",
    "\n",
    "    forward_propagation(input_train)\n",
    "    error_train = get_error(correct_train, n_train)\n",
    "    forward_propagation(input_test)\n",
    "    error_test = get_error(correct_test, n_test)\n",
    "\n",
    "    test_error_x.append(i)\n",
    "    test_error_y.append(error_test)\n",
    "    train_error_x.append(i)\n",
    "    train_error_y.append(error_train)\n",
    "\n",
    "    if i%interval == 0:\n",
    "        print(\"Epoch: \" + str(i) + \"/\" + str(epoch),\n",
    "              \"Error:_train: \" + str(error_train),\n",
    "              \"Error_test: \" + str(error_test))\n",
    "        \n",
    "    index_random = np.arange(n_train)\n",
    "    np.random.shuffle(index_random)\n",
    "\n",
    "    for j in range(n_batch):\n",
    "\n",
    "        mb_index = index_random[j*batch_size : (j+1)*batch_size]\n",
    "        x = input_train[mb_index, :]\n",
    "        t = correct_train[mb_index, :]\n",
    "\n",
    "        forward_propagation(x)\n",
    "        backpropagation(t)\n",
    "\n",
    "        uppdate_wb()"
   ]
  },
  {
   "cell_type": "code",
   "execution_count": 16,
   "metadata": {},
   "outputs": [
    {
     "data": {
      "image/png": "[encoded data removed]",
      "text/plain": [
       "<Figure size 640x480 with 1 Axes>"
      ]
     },
     "metadata": {},
     "output_type": "display_data"
    }
   ],
   "source": [
    "plt.plot(train_error_x, train_error_y, label = \"Train\")\n",
    "plt.plot(test_error_x, test_error_y, label = \"Test\")\n",
    "plt.legend()\n",
    "\n",
    "plt.xlabel(\"Epochs\")\n",
    "plt.ylabel(\"Error\")\n",
    "\n",
    "plt.show()"
   ]
  },
  {
   "cell_type": "code",
   "execution_count": 17,
   "metadata": {},
   "outputs": [
    {
     "name": "stdout",
     "output_type": "stream",
     "text": [
      "Accuracy Train:  100.0%Accuracy Test:  97.33333333333334%\n"
     ]
    }
   ],
   "source": [
    "forward_propagation(input_train)\n",
    "count_train = np.sum(np.argmax(output_layer.y,\n",
    "                               axis=1) == np.argmax(correct_train, axis=1))\n",
    "\n",
    "forward_propagation(input_test)\n",
    "count_test = np.sum(np.argmax(output_layer.y,\n",
    "                              axis=1) == np.argmax(correct_test, axis=1))\n",
    "\n",
    "print(\"Accuracy Train: \", str(count_train/n_train*100) + \"%\"\n",
    "      \"Accuracy Test: \", str(count_test/n_test*100) + \"%\")"
   ]
  },
  {
   "cell_type": "code",
   "execution_count": null,
   "metadata": {},
   "outputs": [],
   "source": []
  }
 ],
 "metadata": {
  "kernelspec": {
   "display_name": "base",
   "language": "python",
   "name": "python3"
  },
  "language_info": {
   "codemirror_mode": {
    "name": "ipython",
    "version": 3
   },
   "file_extension": ".py",
   "mimetype": "text/x-python",
   "name": "python",
   "nbconvert_exporter": "python",
   "pygments_lexer": "ipython3",
   "version": "3.11.4"
  }
 },
 "nbformat": 4,
 "nbformat_minor": 2
}
