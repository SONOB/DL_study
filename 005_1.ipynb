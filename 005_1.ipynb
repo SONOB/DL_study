{
 "cells": [
  {
   "cell_type": "code",
   "execution_count": 151,
   "metadata": {},
   "outputs": [],
   "source": [
    "import numpy as np\n",
    "import matplotlib.pyplot as plt\n",
    "from sklearn import datasets\n",
    "\n",
    "digits_data = datasets.load_digits()\n",
    "input_data = digits_data.data\n",
    "correct = digits_data.target\n",
    "n_data = len(correct)\n"
   ]
  },
  {
   "cell_type": "code",
   "execution_count": 152,
   "metadata": {},
   "outputs": [],
   "source": [
    "ave_input = np.average(input_data)\n",
    "std_input = np.std(input_data)\n",
    "input_data = (input_data - ave_input) / std_input"
   ]
  },
  {
   "cell_type": "code",
   "execution_count": 153,
   "metadata": {},
   "outputs": [],
   "source": [
    "correct_data = np.zeros((n_data,10))\n",
    "for i in range(n_data):\n",
    "    correct_data[i, correct[i]] = 1.0"
   ]
  },
  {
   "cell_type": "code",
   "execution_count": 154,
   "metadata": {},
   "outputs": [],
   "source": [
    "index = np.arange(n_data)\n",
    "index_train = index[index % 3 != 0]\n",
    "index_test = index[index % 3 == 0]"
   ]
  },
  {
   "cell_type": "code",
   "execution_count": 155,
   "metadata": {},
   "outputs": [],
   "source": [
    "input_train = input_data[index_train, :]\n",
    "correct_train = correct_data[index_train, :]\n",
    "input_test = input_data[index_test, :]\n",
    "correct_test = correct_data[index_test, :]"
   ]
  },
  {
   "cell_type": "code",
   "execution_count": 156,
   "metadata": {},
   "outputs": [],
   "source": [
    "n_train = input_train.shape[0]\n",
    "n_test = input_test.shape[0]"
   ]
  },
  {
   "cell_type": "code",
   "execution_count": 157,
   "metadata": {},
   "outputs": [],
   "source": [
    "img_h = 8\n",
    "img_w = 8\n",
    "img_ch = 1\n",
    "\n",
    "wb_width = 0.1\n",
    "eta = 0.01\n",
    "epoch = 50\n",
    "batch_size = 8\n",
    "interval = 10\n",
    "n_sample = 200"
   ]
  },
  {
   "cell_type": "code",
   "execution_count": 158,
   "metadata": {},
   "outputs": [],
   "source": [
    "def im2col(images, flt_h, flt_w, out_h, out_w, stride, pad):\n",
    "\n",
    "    n_bt, n_ch, img_h, img_w = images.shape\n",
    "\n",
    "    img_pad = np.pad(images, [(0, 0), (0, 0), (pad, pad), (pad, pad)], \"constant\")\n",
    "    cols = np.zeros((n_bt, n_ch, flt_h, flt_w, out_h, out_w))\n",
    "\n",
    "    for h in range(flt_h):\n",
    "        h_lim = h + stride*out_h\n",
    "        for w in range(flt_w):\n",
    "            w_lim = w + stride*out_w\n",
    "            cols[:, :, h, w, :, :] = img_pad[:, :, h:h_lim:stride, w:w_lim:stride]\n",
    "\n",
    "    cols = cols.transpose(1, 2, 3, 0, 4, 5).reshape(\n",
    "        n_ch*flt_h*flt_w, n_bt*out_h*out_w)\n",
    "    return cols"
   ]
  },
  {
   "cell_type": "code",
   "execution_count": 159,
   "metadata": {},
   "outputs": [],
   "source": [
    "def col2im(cols, img_shape, flt_h, flt_w, out_h, out_w, stride, pad):\n",
    "\n",
    "    n_bt, n_ch, img_h, img_w = img_shape\n",
    "\n",
    "    cols = cols.reshape(n_ch, flt_h, flt_w, n_bt, out_h, out_w).transpose(3, 0, 1, 2, 4, 5)\n",
    "\n",
    "    images = np.zeros((n_bt, n_ch, img_h+2*pad+stride-1, img_w+2*pad+stride-1))\n",
    "\n",
    "    for h in range(flt_h):\n",
    "        h_lim = h + stride*out_h\n",
    "        for w in range(flt_w):\n",
    "            w_lim = w + stride*out_w\n",
    "            images[:, :, h:h_lim:stride, w:w_lim:stride] += cols[:, :, h, w, :, :]\n",
    "\n",
    "    return images[:, :, pad:img_h+pad, pad:img_w+pad]"
   ]
  },
  {
   "cell_type": "code",
   "execution_count": 160,
   "metadata": {},
   "outputs": [],
   "source": [
    "class ConvLayer:\n",
    "    def __init__(self, x_ch, x_h, x_w, n_flt, flt_h, flt_w, stride, pad):\n",
    "\n",
    "        self.params = (x_ch, x_h, x_w, n_flt, flt_h, flt_w, stride, pad)\n",
    "\n",
    "        self.w = wb_width * np.random.randn(n_flt, x_ch, flt_h, flt_w)\n",
    "        self.b = wb_width * np.random.randn(1, n_flt)\n",
    "\n",
    "        self.y_ch = n_flt\n",
    "        self.y_h = (x_h - flt_h + 2*pad) // stride + 1\n",
    "        self.y_w = (x_w - flt_w + 2*pad) // stride + 1\n",
    "\n",
    "        self.h_w = np.zeros((n_flt, x_ch, flt_h, flt_w)) + 1e-8\n",
    "        self.h_b = np.zeros((1, n_flt)) + 1e-8\n",
    "\n",
    "    def forward(self, x):\n",
    "        n_bt = x.shape[0]\n",
    "        x_ch, x_h, x_w, n_flt, flt_h, flt_w, stride, pad = self.params\n",
    "        y_ch, y_h, y_w = self.y_ch, self.y_h, self.y_w\n",
    "\n",
    "        self.cols = im2col(x, flt_h, flt_w, y_h, y_w, stride, pad)\n",
    "        self.w_col = self.w.reshape(n_flt, x_ch*flt_h*flt_w)\n",
    "\n",
    "        u = np.dot(self.w_col, self.cols).T + self.b\n",
    "        self.u = u.reshape(n_bt, y_h, y_w, y_ch).transpose(0, 3, 1, 2)\n",
    "        self.y = np.where(self.u <= 0,0,self.u)\n",
    "\n",
    "    def backward(self, grad_y):\n",
    "        n_bt = grad_y.shape[0]\n",
    "        x_ch, x_h, x_w, n_flt, flt_h, flt_w, stride, pad = self.params\n",
    "        y_ch, y_h, y_w = self.y_ch, self.y_h, self.y_w\n",
    "\n",
    "        delta = grad_y * np.where(self.u <= 0, 0, 1)\n",
    "        delta = delta.transpose(0,2,3,1).reshape(n_bt*y_h*y_w, y_ch)\n",
    "\n",
    "        grad_w = np.dot(self.cols, delta)\n",
    "        self.grad_w = grad_w.T.reshape(n_flt, x_ch, flt_h, flt_w)\n",
    "        self.grad_b = np.sum(delta, axis=0)\n",
    "\n",
    "        grad_cols = np.dot(delta, self.w_col)\n",
    "        x_shape = (n_bt, x_ch, x_h, x_w)\n",
    "        self.grad_x = col2im(grad_cols.T, x_shape, flt_h, flt_w, y_h, y_w, stride, pad)\n",
    "\n",
    "    def update(self, eta):\n",
    "        self.h_w += self.grad_w * self.grad_w\n",
    "        self.w -= eta / np.sqrt(self.h_w) * self.grad_w\n",
    "\n",
    "        self.h_b += self.grad_b * self.grad_b\n",
    "        self.b -= eta / np.sqrt(self.h_b) * self.grad_b"
   ]
  },
  {
   "cell_type": "code",
   "execution_count": 161,
   "metadata": {},
   "outputs": [],
   "source": [
    "class PoolingLayer:\n",
    "\n",
    "    def __init__(self, x_ch, x_h, x_w, pool, pad):\n",
    "        self.params = (x_ch, x_h, x_w, pool, pad)\n",
    "\n",
    "        self.y_ch = x_ch\n",
    "        self.y_h = x_h//pool if x_h%pool==0 else x_h//pool+1\n",
    "        self.y_w = x_w//pool if x_w%pool==0 else x_w//pool+1\n",
    "\n",
    "    def forward(self, x):\n",
    "        n_bt = x.shape[0]\n",
    "        x_ch, x_h, x_w, pool, pad = self.params\n",
    "        y_ch, y_h, y_w = self.y_ch, self.y_h, self.y_w\n",
    "\n",
    "        cols = im2col(x, pool, pool, y_h, y_w, pool, pad)\n",
    "        cols = cols.T.reshape(n_bt*y_h*y_w*x_ch, pool*pool)\n",
    "\n",
    "        y = np.max(cols, axis=1)\n",
    "        self.y = y.reshape(n_bt, y_h, y_w, x_ch).transpose(0, 3, 1, 2)\n",
    "\n",
    "        self.max_index = np.argmax(cols, axis=1)\n",
    "\n",
    "    def backward(self, grad_y):\n",
    "        n_bt = grad_y.shape[0]\n",
    "        x_ch, x_h, x_w, pool, pad = self.params\n",
    "        y_ch, y_h, y_w = self.y_ch, self.y_h, self.y_w\n",
    "\n",
    "        grad_y = grad_y.transpose(0, 2, 3, 1)\n",
    "\n",
    "        grad_cols = np.zeros((pool*pool, grad_y.size))\n",
    "\n",
    "        grad_cols[self.max_index.reshape(-1), \n",
    "                  np.arange(grad_y.size)] = grad_y.reshape(-1)\n",
    "        grad_cols = grad_cols.reshape(pool, pool, n_bt, y_h, y_w, y_ch)\n",
    "        grad_cols = grad_cols.transpose(5, 0, 1, 2, 3, 4)\n",
    "        grad_cols = grad_cols.reshape(y_ch*pool*pool, n_bt*y_h*y_w)\n",
    "\n",
    "        x_shape = (n_bt, x_ch, x_h, x_w)\n",
    "        self.grad_x = col2im(grad_cols, x_shape, pool, pool, y_h, y_w, pool, pad)"
   ]
  },
  {
   "cell_type": "code",
   "execution_count": 162,
   "metadata": {},
   "outputs": [],
   "source": [
    "class BaseLayer:\n",
    "    def __init__(self, n_upper, n):\n",
    "        self.w = wb_width * np.random.randn(n_upper, n)\n",
    "        self.b = wb_width * np.random.randn(n)\n",
    "\n",
    "        self.h_w = np.zeros((n_upper, n)) + 1e-8\n",
    "        self.h_b = np.zeros(n) + 1e-8\n",
    "\n",
    "    def update(self, eta):\n",
    "        self.h_w += self.grad_w * self.grad_w\n",
    "        self.w -= eta / np.sqrt(self.h_w) * self.grad_w\n",
    "\n",
    "        self.h_b += self.grad_b * self.grad_b\n",
    "        self.b -= eta / np.sqrt(self.h_b) * self.grad_b"
   ]
  },
  {
   "cell_type": "code",
   "execution_count": 163,
   "metadata": {},
   "outputs": [],
   "source": [
    "class MiddleLayer(BaseLayer):\n",
    "    def forward(self, x):\n",
    "        self.x = x\n",
    "        self.u = np.dot(x, self.w) + self.b\n",
    "        self.y = np.where(self.u <= 0, 0, self.u)\n",
    "\n",
    "    def backward(self, grad_y):\n",
    "        delta = grad_y * np.where(self.u <= 0, 0, 1)\n",
    "\n",
    "        self.grad_w = np.dot(self.x.T, delta)\n",
    "        self.grad_b = np.sum(delta, axis=0)\n",
    "\n",
    "        self.grad_x = np.dot(delta, self.w.T)"
   ]
  },
  {
   "cell_type": "code",
   "execution_count": 164,
   "metadata": {},
   "outputs": [],
   "source": [
    "class OutputLayer(BaseLayer):\n",
    "    def forward(self, x):\n",
    "        self.x = x\n",
    "        u = np.dot(x, self.w) + self.b\n",
    "        self.y = np.exp(u)/np.sum(np.exp(u), axis=1).reshape(-1, 1)\n",
    "\n",
    "    def backward(self, t):\n",
    "        delta = self.y - t\n",
    "\n",
    "        self.grad_w = np.dot(self.x.T, delta)\n",
    "        self.grad_b = np.sum(delta, axis=0)\n",
    "\n",
    "        self.grad_x = np.dot(delta, self.w.T)"
   ]
  },
  {
   "cell_type": "code",
   "execution_count": 165,
   "metadata": {},
   "outputs": [],
   "source": [
    "cl_1 = ConvLayer(img_ch, img_h, img_w, 10, 3, 3, 1, 1)\n",
    "pl_1 = PoolingLayer(cl_1.y_ch, cl_1.y_h, cl_1.y_w, 2, 0)\n",
    "\n",
    "n_fc_in = pl_1.y_ch * pl_1.y_h * pl_1.y_w\n",
    "ml_1 = MiddleLayer(n_fc_in, 100)\n",
    "ol_1 = OutputLayer(100, 10)"
   ]
  },
  {
   "cell_type": "code",
   "execution_count": 166,
   "metadata": {},
   "outputs": [],
   "source": [
    "def forward_propagation(x):\n",
    "    n_bt = x.shape[0]\n",
    "\n",
    "    images = x.reshape(n_bt, img_ch, img_h, img_w)\n",
    "    cl_1.forward(images)\n",
    "    pl_1.forward(cl_1.y)\n",
    "\n",
    "    fc_input = pl_1.y.reshape(n_bt, -1)\n",
    "    ml_1.forward(fc_input)\n",
    "    ol_1.forward(ml_1.y)"
   ]
  },
  {
   "cell_type": "code",
   "execution_count": 167,
   "metadata": {},
   "outputs": [],
   "source": [
    "def backpropagation(t):\n",
    "    n_bt = t.shape[0]\n",
    "\n",
    "    ol_1.backward(t)\n",
    "    ml_1.backward(ol_1.grad_x)\n",
    "\n",
    "    grad_img = ml_1.grad_x.reshape(n_bt, pl_1.y_ch, pl_1.y_h, pl_1.y_w)\n",
    "    pl_1.backward(grad_img)\n",
    "    cl_1.backward(pl_1.grad_x)"
   ]
  },
  {
   "cell_type": "code",
   "execution_count": 168,
   "metadata": {},
   "outputs": [],
   "source": [
    "def uppdate_wb():\n",
    "    cl_1.update(eta)\n",
    "    ml_1.update(eta)\n",
    "    ol_1.update(eta)"
   ]
  },
  {
   "cell_type": "code",
   "execution_count": 169,
   "metadata": {},
   "outputs": [],
   "source": [
    "def get_error(t, batch_size):\n",
    "    return -np.sum(t * np.log(ol_1.y + 1e-7)) / batch_size"
   ]
  },
  {
   "cell_type": "code",
   "execution_count": 170,
   "metadata": {},
   "outputs": [],
   "source": [
    "def forward_sample(inp, correct, n_sample):\n",
    "    index_rand = np.arange(len(correct))\n",
    "    np.random.shuffle(index_rand)\n",
    "    index_rand = index_rand[:n_sample]\n",
    "    x = inp[index_rand, :]\n",
    "    t = correct[index_rand, :]\n",
    "    forward_propagation(x)\n",
    "    return x, t"
   ]
  },
  {
   "cell_type": "code",
   "execution_count": 171,
   "metadata": {},
   "outputs": [],
   "source": [
    "train_error_x = []\n",
    "train_error_y = []\n",
    "test_error_x = []\n",
    "test_error_y = []"
   ]
  },
  {
   "cell_type": "code",
   "execution_count": 172,
   "metadata": {},
   "outputs": [
    {
     "name": "stdout",
     "output_type": "stream",
     "text": [
      "Epoch: 0/50 Error_train: 2.3647441509259277 Error_test: 2.404697397664879\n"
     ]
    },
    {
     "name": "stdout",
     "output_type": "stream",
     "text": [
      "Epoch: 10/50 Error_train: 0.05324604308735042 Error_test: 0.08228392608365959\n",
      "Epoch: 20/50 Error_train: 0.02923188588811426 Error_test: 0.10325146469423188\n",
      "Epoch: 30/50 Error_train: 0.01823848411888908 Error_test: 0.0732949764037659\n",
      "Epoch: 40/50 Error_train: 0.01596786551885663 Error_test: 0.06177767452810118\n"
     ]
    }
   ],
   "source": [
    "n_batch = n_train // batch_size\n",
    "for i in range(epoch):\n",
    "    x, t = forward_sample(input_train, correct_train, n_sample)\n",
    "    error_train = get_error(t, n_sample)\n",
    "\n",
    "    x, t = forward_sample(input_test, correct_test, n_sample)\n",
    "    error_test = get_error(t, n_sample)\n",
    "\n",
    "    train_error_x.append(i)\n",
    "    train_error_y.append(error_train)\n",
    "    test_error_x.append(i)\n",
    "    test_error_y.append(error_test)\n",
    "\n",
    "    if i%interval == 0:\n",
    "        print(\"Epoch: \" + str(i) + \"/\" + str(epoch),\n",
    "              \"Error_train: \" + str(error_train),\n",
    "              \"Error_test: \" + str(error_test))\n",
    "        \n",
    "    index_rand = np.arange(n_train)\n",
    "    np.random.shuffle(index_rand)\n",
    "    for j in range(n_batch):\n",
    "\n",
    "        mb_index = index_rand[j*batch_size : (j+1)*batch_size]\n",
    "        x = input_train[mb_index, :]\n",
    "        t = correct_train[mb_index, :]\n",
    "\n",
    "        forward_propagation(x)\n",
    "        backpropagation(t)\n",
    "        uppdate_wb()"
   ]
  },
  {
   "cell_type": "code",
   "execution_count": 173,
   "metadata": {},
   "outputs": [
    {
     "data": {
      "image/png": "[encoded data removed]",
      "text/plain": [
       "<Figure size 640x480 with 1 Axes>"
      ]
     },
     "metadata": {},
     "output_type": "display_data"
    }
   ],
   "source": [
    "plt.plot(train_error_x, train_error_y, label=\"Train\")\n",
    "plt.plot(test_error_x, test_error_y, label=\"Test\")\n",
    "plt.legend()\n",
    "\n",
    "plt.xlabel(\"Epochs\")\n",
    "plt.ylabel(\"Error\")\n",
    "\n",
    "plt.show()"
   ]
  },
  {
   "cell_type": "code",
   "execution_count": 178,
   "metadata": {},
   "outputs": [
    {
     "name": "stdout",
     "output_type": "stream",
     "text": [
      "Accuracy Train:  [0. 0. 0. ... 0. 0. 0.]%Accuracy Test:  [0. 0. 0. 0. 0. 0. 0. 0. 0. 0. 0. 0. 0. 0. 0. 0. 0. 0. 0. 0. 0. 0. 0. 0.\n",
      " 0. 0. 0. 0. 0. 0. 0. 0. 0. 0. 0. 0. 0. 0. 0. 0. 0. 0. 0. 0. 0. 0. 0. 0.\n",
      " 0. 0. 0. 0. 0. 0. 0. 0. 0. 0. 0. 0. 0. 0. 0. 0. 0. 0. 0. 0. 0. 0. 0. 0.\n",
      " 0. 0. 0. 0. 0. 0. 0. 0. 0. 0. 0. 0. 0. 0. 0. 0. 0. 0. 0. 0. 0. 0. 0. 0.\n",
      " 0. 0. 0. 0. 0. 0. 0. 0. 0. 0. 0. 0. 0. 0. 0. 0. 0. 0. 0. 0. 0. 0. 0. 0.\n",
      " 0. 0. 0. 0. 0. 0. 0. 0. 0. 0. 0. 0. 0. 0. 0. 0. 0. 0. 0. 0. 0. 0. 0. 0.\n",
      " 0. 0. 0. 0. 0. 0. 0. 0. 0. 0. 0. 0. 0. 0. 0. 0. 0. 0. 0. 0. 0. 0. 0. 0.\n",
      " 0. 0. 0. 0. 0. 0. 0. 0. 0. 0. 0. 0. 0. 0. 0. 0. 0. 0. 0. 0. 0. 0. 0. 0.\n",
      " 0. 0. 0. 0. 0. 0. 0. 0. 0. 0. 0. 0. 0. 0. 0. 0. 0. 0. 0. 0. 0. 0. 0. 0.\n",
      " 0. 0. 0. 0. 0. 0. 0. 0. 0. 0. 0. 0. 0. 0. 0. 0. 0. 0. 0. 0. 0. 0. 0. 0.\n",
      " 0. 0. 0. 0. 0. 0. 0. 0. 0. 0. 0. 0. 0. 0. 0. 0. 0. 0. 0. 0. 0. 0. 0. 0.\n",
      " 0. 0. 0. 0. 0. 0. 0. 0. 0. 0. 0. 0. 0. 0. 0. 0. 0. 0. 0. 0. 0. 0. 0. 0.\n",
      " 0. 0. 0. 0. 0. 0. 0. 0. 0. 0. 0. 0. 0. 0. 0. 0. 0. 0. 0. 0. 0. 0. 0. 0.\n",
      " 0. 0. 0. 0. 0. 0. 0. 0. 0. 0. 0. 0. 0. 0. 0. 0. 0. 0. 0. 0. 0. 0. 0. 0.\n",
      " 0. 0. 0. 0. 0. 0. 0. 0. 0. 0. 0. 0. 0. 0. 0. 0. 0. 0. 0. 0. 0. 0. 0. 0.\n",
      " 0. 0. 0. 0. 0. 0. 0. 0. 0. 0. 0. 0. 0. 0. 0. 0. 0. 0. 0. 0. 0. 0. 0. 0.\n",
      " 0. 0. 0. 0. 0. 0. 0. 0. 0. 0. 0. 0. 0. 0. 0. 0. 0. 0. 0. 0. 0. 0. 0. 0.\n",
      " 0. 0. 0. 0. 0. 0. 0. 0. 0. 0. 0. 0. 0. 0. 0. 0. 0. 0. 0. 0. 0. 0. 0. 0.\n",
      " 0. 0. 0. 0. 0. 0. 0. 0. 0. 0. 0. 0. 0. 0. 0. 0. 0. 0. 0. 0. 0. 0. 0. 0.\n",
      " 0. 0. 0. 0. 0. 0. 0. 0. 0. 0. 0. 0. 0. 0. 0. 0. 0. 0. 0. 0. 0. 0. 0. 0.\n",
      " 0. 0. 0. 0. 0. 0. 0. 0. 0. 0. 0. 0. 0. 0. 0. 0. 0. 0. 0. 0. 0. 0. 0. 0.\n",
      " 0. 0. 0. 0. 0. 0. 0. 0. 0. 0. 0. 0. 0. 0. 0. 0. 0. 0. 0. 0. 0. 0. 0. 0.\n",
      " 0. 0. 0. 0. 0. 0. 0. 0. 0. 0. 0. 0. 0. 0. 0. 0. 0. 0. 0. 0. 0. 0. 0. 0.\n",
      " 0. 0. 0. 0. 0. 0. 0. 0. 0. 0. 0. 0. 0. 0. 0. 0. 0. 0. 0. 0. 0. 0. 0. 0.\n",
      " 0. 0. 0. 0. 0. 0. 0. 0. 0. 0. 0. 0. 0. 0. 0. 0. 0. 0. 0. 0. 0. 0. 0.]%\n"
     ]
    }
   ],
   "source": [
    "x, t = forward_sample(input_train, correct_train, n_train)\n",
    "count_train = np.sum(np.argmax(ol_1.y, axis=1)) == np.argmax(t, axis=1)\n",
    "x, t = forward_sample(input_test, correct_test, n_test)\n",
    "count_test = np.sum(np.argmax(ol_1.y, axis=1)) == np.argmax(t, axis=1)\n",
    "\n",
    "print(\"Accuracy Train: \", str(count_train/n_train*100) + \"%\"\n",
    "      \"Accuracy Test: \", str(count_test/n_test*100) + \"%\")"
   ]
  },
  {
   "cell_type": "code",
   "execution_count": 175,
   "metadata": {},
   "outputs": [
    {
     "name": "stdout",
     "output_type": "stream",
     "text": [
      "[[9.99994666e-01 2.16949877e-11 2.43774062e-08 1.42072043e-10\n",
      "  7.10702058e-09 3.84956325e-06 4.90926528e-10 1.41411931e-07\n",
      "  4.85269596e-07 8.25960105e-07]\n",
      " [6.38067517e-11 8.69502715e-08 4.01134212e-07 9.99835036e-01\n",
      "  3.48796863e-11 4.48944241e-05 6.32467091e-10 2.38676058e-08\n",
      "  3.71006250e-06 1.15846457e-04]\n",
      " [6.35833258e-07 9.36546775e-05 1.79275035e-07 7.50363284e-08\n",
      "  1.08876465e-05 3.75622990e-07 9.99774956e-01 1.30591792e-10\n",
      "  1.19235561e-04 7.64419498e-11]\n",
      " [3.77456427e-04 5.61705412e-06 2.49554334e-09 1.22872580e-04\n",
      "  4.67905957e-06 2.71808994e-01 1.93509142e-08 2.68814854e-06\n",
      "  2.92428382e-03 7.24753387e-01]\n",
      " [1.06053045e-06 2.24192552e-03 9.97718740e-01 1.58831526e-05\n",
      "  3.54409025e-06 1.61305348e-05 5.74999530e-07 2.99292251e-07\n",
      "  1.75625908e-06 8.56657783e-08]]\n",
      "[[1. 0. 0. 0. 0. 0. 0. 0. 0. 0.]\n",
      " [0. 0. 0. 1. 0. 0. 0. 0. 0. 0.]\n",
      " [0. 0. 0. 0. 0. 0. 1. 0. 0. 0.]\n",
      " [0. 0. 0. 0. 0. 0. 0. 0. 0. 1.]\n",
      " [0. 0. 1. 0. 0. 0. 0. 0. 0. 0.]]\n"
     ]
    }
   ],
   "source": [
    "samples = input_test[:5]\n",
    "forward_propagation(samples)\n",
    "print(ol_1.y)\n",
    "print(correct_test[:5])"
   ]
  },
  {
   "cell_type": "code",
   "execution_count": null,
   "metadata": {},
   "outputs": [],
   "source": []
  }
 ],
 "metadata": {
  "kernelspec": {
   "display_name": "base",
   "language": "python",
   "name": "python3"
  },
  "language_info": {
   "codemirror_mode": {
    "name": "ipython",
    "version": 3
   },
   "file_extension": ".py",
   "mimetype": "text/x-python",
   "name": "python",
   "nbconvert_exporter": "python",
   "pygments_lexer": "ipython3",
   "version": "3.11.4"
  }
 },
 "nbformat": 4,
 "nbformat_minor": 2
}
